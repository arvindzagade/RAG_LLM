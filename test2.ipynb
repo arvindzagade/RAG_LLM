{
 "cells": [
  {
   "cell_type": "code",
   "execution_count": null,
   "metadata": {},
   "outputs": [],
   "source": []
  },
  {
   "cell_type": "code",
   "execution_count": 19,
   "metadata": {},
   "outputs": [
    {
     "name": "stdout",
     "output_type": "stream",
     "text": [
      "Relevant Papers:\n",
      "Expert Opinion on Drug Discovery\n",
      "ISSN: (Print) (Online) Journal homepage: www.tandfonline.com/journals/iedc20\n",
      "Induﬆrializing AI-powered drug discovery: lessons\n",
      "learned from the Patrimony computing platform\n",
      "Mickaël Guedj, Jack Swindle, Antoine Hamon, Sandra Hubert, Emiko\n",
      "Desvaux, Jessica Laplume, Lau ...\n",
      "\n",
      "See discussions, stats, and author profiles for this publication at: https://www.researchgate.net/publication/380731266\n",
      "A COMPREHENSIVE STUDY ON AI-POWERED DRUG DISCOVERY: RAPID\n",
      "DEVELOPMENT OF PHARMACEUTICAL RESEARCH\n",
      "Article  in  Journal of Emerging Technologies and Innovative Research · February 20 ...\n",
      "\n",
      "Opinion\n",
      "AI-powered therapeutic target discovery\n",
      "Frank W. Pun,1 Ivan V. Ozerov,1 and Alex Zhavoronkov\n",
      "1,2,3,*\n",
      "Disease modeling and target identiﬁcation are the most crucial initial steps in\n",
      "drug discovery, and inﬂuence the probability of success at every step of drug\n",
      "development. Traditional target i ...\n",
      "\n",
      "\n",
      "Generated Response:\n",
      "Recent advancements in AI-powered drug discovery include industrialization of AI platforms, as discussed in the paper on Patrimony computing platform. This platform has been successful in accelerating various stages of drug discovery, such as target identification, hit discovery, lead optimization, and preclinical development.\n",
      "\n",
      "Another study comprehensively reviewed AI-powered drug discovery and highlighted its potential in pharmaceutical research. The paper discussed various AI methods, including machine learning, deep learning, and network analysis, and their applications in drug discovery.\n",
      "\n",
      "Lastly, the opinion article by Pun et al. emphasized the importance of AI in disease modeling and target identification, which are critical initial steps in drug discovery. The authors suggested that AI can significantly reduce the time taken for traditional target identification, which usually takes years to decades.\n",
      "\n",
      "Overall, these studies indicate that AI is making significant strides in drug discovery, with potential applications in various stages, including target identification, hit discovery, lead optimization, and preclinical development.\n"
     ]
    }
   ],
   "source": [
    "import os\n",
    "import glob\n",
    "import fitz  # PyMuPDF for PDF processing\n",
    "import numpy as np\n",
    "import faiss\n",
    "# from langchain.llms import Groq\n",
    "from langchain_groq import ChatGroq\n",
    "from langchain.embeddings import HuggingFaceEmbeddings\n",
    "from dotenv import load_dotenv\n",
    "\n",
    "# Load API keys from .env\n",
    "load_dotenv()\n",
    "GROQ_API_KEY = os.getenv(\"GROQ_API_KEY\")\n",
    "\n",
    "# Initialize LLM\n",
    "groq_llm = ChatGroq(api_key=GROQ_API_KEY)\n",
    "\n",
    "def load_pdfs(folder_path, chunk_size=500):\n",
    "    pdf_files = glob.glob(os.path.join(folder_path, \"*.pdf\"))\n",
    "    documents = []\n",
    "    \n",
    "    for file in pdf_files:\n",
    "        with fitz.open(file) as doc:\n",
    "            text = \"\\n\".join([page.get_text(\"text\") for page in doc])\n",
    "            \n",
    "            # Chunking the text\n",
    "            for i in range(0, len(text), chunk_size):\n",
    "                documents.append(text[i:i+chunk_size])\n",
    "    \n",
    "    return documents\n",
    "\n",
    "\n",
    "# Initialize HuggingFace embeddings\n",
    "embedding_model = HuggingFaceEmbeddings(model_name=\"sentence-transformers/all-MiniLM-L6-v2\")\n",
    "embeddings = np.array([embedding_model.embed_query(doc) for doc in documents])\n",
    "\n",
    "# Store in FAISS index\n",
    "d = embeddings.shape[1]\n",
    "index = faiss.IndexFlatL2(d)\n",
    "index.add(embeddings)\n",
    "\n",
    "def query_rag_system(user_query):\n",
    "    query_embedding = embedding_model.embed_query(user_query)\n",
    "    D, I = index.search(np.array([query_embedding]), k=3)  # Retrieve top 3 similar docs\n",
    "    similar_docs = [documents[i] for i in I[0]]\n",
    "    \n",
    "    # Construct a prompt for the LLM\n",
    "    prompt = f\"Based on the following research papers, answer the query: {user_query}\\n\\n\"\n",
    "    for i, doc in enumerate(similar_docs):\n",
    "        prompt += f\"Research Paper {i+1}: {doc[:500]}...\\n\\n\"\n",
    "    prompt += \"Provide a concise and informative response.\"\n",
    "    \n",
    "    # Get response from Groq LLM\n",
    "    response = groq_llm.predict(prompt)\n",
    "    \n",
    "    return similar_docs, response\n",
    "\n",
    "# Example Query\n",
    "test_query = \"What are the recent advancements in AI-powered drug discovery?\"\n",
    "similar_papers, response = query_rag_system(test_query)\n",
    "\n",
    "print(\"Relevant Papers:\")\n",
    "for paper in similar_papers:\n",
    "    print(paper[:300], \"...\\n\")\n",
    "\n",
    "print(\"\\nGenerated Response:\")\n",
    "print(response)"
   ]
  },
  {
   "cell_type": "code",
   "execution_count": 22,
   "metadata": {},
   "outputs": [
    {
     "name": "stdout",
     "output_type": "stream",
     "text": [
      "Relevant Papers:\n",
      "Expert Opinion on Drug Discovery\n",
      "ISSN: (Print) (Online) Journal homepage: www.tandfonline.com/journals/iedc20\n",
      "Induﬆrializing AI-powered drug discovery: lessons\n",
      "learned from the Patrimony computing platform\n",
      "Mickaël Guedj, Jack Swindle, Antoine Hamon, Sandra Hubert, Emiko\n",
      "Desvaux, Jessica Laplume, Lau ...\n",
      "\n",
      "Opinion\n",
      "AI-powered therapeutic target discovery\n",
      "Frank W. Pun,1 Ivan V. Ozerov,1 and Alex Zhavoronkov\n",
      "1,2,3,*\n",
      "Disease modeling and target identiﬁcation are the most crucial initial steps in\n",
      "drug discovery, and inﬂuence the probability of success at every step of drug\n",
      "development. Traditional target i ...\n",
      "\n",
      "See discussions, stats, and author profiles for this publication at: https://www.researchgate.net/publication/380731266\n",
      "A COMPREHENSIVE STUDY ON AI-POWERED DRUG DISCOVERY: RAPID\n",
      "DEVELOPMENT OF PHARMACEUTICAL RESEARCH\n",
      "Article  in  Journal of Emerging Technologies and Innovative Research · February 20 ...\n",
      "\n",
      "\n",
      "Generated Response:\n",
      "Biomedical Image Analysis is helpful in drug discovery as it can expedite and improve the accuracy of various stages of the drug development process. According to the research papers provided, it can be used to analyze large datasets and intricate biological networks for therapeutic target discovery, which can reduce the time it takes for traditional target identification from years to decades (Pun et al., 2021). Furthermore, AI-powered image analysis can facilitate rapid development of pharmaceutical research by providing insights into disease modeling and drug response (Kolluri, 2021). Additionally, the use of image analysis in drug discovery can help industrialize the process, as demonstrated by the Patrimony computing platform, which has successfully integrated AI-powered image analysis into drug discovery (Guedj et al., 2022). Therefore, biomedical image analysis has the potential to significantly improve the efficiency and effectiveness of drug discovery.\n"
     ]
    }
   ],
   "source": [
    "# Example Query\n",
    "test_query = \" how Biomedical Image Analysis is helpful\"\n",
    "similar_papers, response = query_rag_system(test_query)\n",
    "\n",
    "print(\"Relevant Papers:\")\n",
    "for paper in similar_papers:\n",
    "    print(paper[:300], \"...\\n\")\n",
    "\n",
    "print(\"\\nGenerated Response:\")\n",
    "print(response)"
   ]
  },
  {
   "cell_type": "code",
   "execution_count": 23,
   "metadata": {},
   "outputs": [
    {
     "name": "stdout",
     "output_type": "stream",
     "text": [
      "Relevant Papers:\n",
      "Received January 21, 2019, accepted March 3, 2019, date of current version May 29, 2019.\n",
      "Digital Object Identifier 10.1109/ACCESS.2019.2906402\n",
      "Towards Sustainable Energy: A Systematic\n",
      "Review of Renewable Energy Sources,\n",
      "Technologies, and Public Opinions\n",
      "ATIKA QAZI\n",
      "1, FAYAZ HUSSAIN1, NASRUDIN ABD. RA ...\n",
      "\n",
      "1US Department of Energy, 1000 Independence Avenue SW, Washington DC 20585, USA. \n",
      "T\n",
      "he industrial revolution began in the mid-eighteenth century, \n",
      "and provided humans with capabilities well beyond animal and \n",
      "human power. Steam-powered trains and ships, and then inter­\n",
      "nal combustion engines transfo ...\n",
      "\n",
      "Expert Opinion on Drug Discovery\n",
      "ISSN: (Print) (Online) Journal homepage: www.tandfonline.com/journals/iedc20\n",
      "Induﬆrializing AI-powered drug discovery: lessons\n",
      "learned from the Patrimony computing platform\n",
      "Mickaël Guedj, Jack Swindle, Antoine Hamon, Sandra Hubert, Emiko\n",
      "Desvaux, Jessica Laplume, Lau ...\n",
      "\n",
      "\n",
      "Generated Response:\n",
      "Based on the research papers provided, the latest advancements regarding sustainable energy include:\n",
      "\n",
      "1. The increasing adoption of renewable energy sources and technologies such as solar, wind, hydro, and geothermal energy for electricity generation (Qazi et al., 2019).\n",
      "2. The integration of artificial intelligence (AI) and machine learning (ML) in sustainable energy systems for improved energy efficiency, demand response, and system optimization (Qazi et al., 2019).\n",
      "3. The development of new business models and financing mechanisms for sustainable energy projects, including crowdfunding, green bonds, and power purchase agreements (Qazi et al., 2019).\n",
      "4. The use of blockchain technology for decentralized energy trading, peer-to-peer energy sharing, and grid management (Qazi et al., 2019).\n",
      "5. The growing interest in sustainable energy storage technologies such as batteries, flywheels, and compressed air energy storage (Qazi et al., 2019).\n",
      "6. The ongoing efforts in electrification of transportation, buildings, and industries for reducing greenhouse gas emissions (US Department of Energy, n.d.).\n",
      "7. The advancements in AI-powered drug discovery for sustainable energy research and development, which can accelerate the development of new sustainable energy technologies and solutions (Guedj et al., 2021).\n"
     ]
    }
   ],
   "source": [
    "\n",
    "\n",
    "# Example Query\n",
    "test_query = \" What are latest advancement regarding Sustainable Energy\"\n",
    "similar_papers, response = query_rag_system(test_query)\n",
    "\n",
    "print(\"Relevant Papers:\")\n",
    "for paper in similar_papers:\n",
    "    print(paper[:300], \"...\\n\")\n",
    "\n",
    "print(\"\\nGenerated Response:\")\n",
    "print(response)"
   ]
  },
  {
   "cell_type": "code",
   "execution_count": null,
   "metadata": {},
   "outputs": [],
   "source": []
  },
  {
   "cell_type": "code",
   "execution_count": null,
   "metadata": {},
   "outputs": [],
   "source": []
  },
  {
   "cell_type": "code",
   "execution_count": null,
   "metadata": {},
   "outputs": [],
   "source": []
  },
  {
   "cell_type": "code",
   "execution_count": null,
   "metadata": {},
   "outputs": [],
   "source": []
  },
  {
   "cell_type": "code",
   "execution_count": null,
   "metadata": {},
   "outputs": [],
   "source": []
  },
  {
   "cell_type": "code",
   "execution_count": null,
   "metadata": {},
   "outputs": [],
   "source": []
  },
  {
   "cell_type": "code",
   "execution_count": null,
   "metadata": {},
   "outputs": [],
   "source": []
  },
  {
   "cell_type": "code",
   "execution_count": null,
   "metadata": {},
   "outputs": [],
   "source": []
  },
  {
   "cell_type": "code",
   "execution_count": null,
   "metadata": {},
   "outputs": [],
   "source": []
  },
  {
   "cell_type": "code",
   "execution_count": null,
   "metadata": {},
   "outputs": [],
   "source": []
  },
  {
   "cell_type": "code",
   "execution_count": null,
   "metadata": {},
   "outputs": [],
   "source": []
  },
  {
   "cell_type": "code",
   "execution_count": null,
   "metadata": {},
   "outputs": [],
   "source": []
  }
 ],
 "metadata": {
  "kernelspec": {
   "display_name": "groq",
   "language": "python",
   "name": "python3"
  },
  "language_info": {
   "codemirror_mode": {
    "name": "ipython",
    "version": 3
   },
   "file_extension": ".py",
   "mimetype": "text/x-python",
   "name": "python",
   "nbconvert_exporter": "python",
   "pygments_lexer": "ipython3",
   "version": "3.10.16"
  }
 },
 "nbformat": 4,
 "nbformat_minor": 2
}
