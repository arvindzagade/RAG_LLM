{
 "cells": [
  {
   "cell_type": "code",
   "execution_count": 2,
   "metadata": {},
   "outputs": [],
   "source": [
    "import os\n",
    "from dotenv import load_dotenv\n",
    "\n",
    "load_dotenv()\n",
    "\n",
    "GROQ_API_KEY = os.getenv(\"GROQ_API_KEY\")\n",
    "# ASTRA_DB_API = os.getenv(\"ASTRA_DB_API\")\n",
    "# SERPAPI_KEY = os.getenv(\"SERPAPI_KEY\")"
   ]
  },
  {
   "cell_type": "code",
   "execution_count": 3,
   "metadata": {},
   "outputs": [],
   "source": [
    "\n",
    "import fitz  # PyMuPDF\n",
    "\n",
    "def extract_text_from_pdf(pdf_path):\n",
    "    doc = fitz.open(pdf_path)\n",
    "    text = \"\"\n",
    "    for page in doc:\n",
    "        text += page.get_text(\"text\")\n",
    "    return text"
   ]
  },
  {
   "cell_type": "code",
   "execution_count": 4,
   "metadata": {},
   "outputs": [],
   "source": [
    "## Step 4: Store Text as Vector Embeddings\n",
    "\n",
    "from langchain.vectorstores import FAISS\n",
    "from langchain.embeddings.openai import OpenAIEmbeddings\n",
    "\n",
    "def store_embeddings(text, save_path=\"vector_store\"):\n",
    "    embeddings = OpenAIEmbeddings()\n",
    "    vector_store = FAISS.from_texts([text], embeddings)\n",
    "    vector_store.save_local(save_path)\n",
    "    return vector_store"
   ]
  },
  {
   "cell_type": "code",
   "execution_count": 6,
   "metadata": {},
   "outputs": [],
   "source": [
    "\n",
    "## Step 5: Load Vector Store and Query\n",
    "from langchain_groq import ChatGroq\n",
    "\n",
    "def load_vector_store():\n",
    "    embeddings = OpenAIEmbeddings()\n",
    "    return FAISS.load_local(\"vector_store\", embeddings)\n",
    "\n",
    "def query_rag(user_query):\n",
    "    vector_store = load_vector_store()\n",
    "    retrieved_docs = vector_store.similarity_search(user_query, k=5)\n",
    "    \n",
    "    context = \"\\n\\n\".join([doc.page_content for doc in retrieved_docs])\n",
    "    llm = ChatGroq(api_key=GROQ_API_KEY)\n",
    "    \n",
    "    response = llm.predict(f\"Based on this research context, answer: {user_query}\\n\\nContext:\\n{context}\")\n",
    "    return response"
   ]
  },
  {
   "cell_type": "code",
   "execution_count": 7,
   "metadata": {},
   "outputs": [
    {
     "name": "stderr",
     "output_type": "stream",
     "text": [
      "2025-02-04 20:16:36.030 WARNING streamlit.runtime.scriptrunner_utils.script_run_context: Thread 'MainThread': missing ScriptRunContext! This warning can be ignored when running in bare mode.\n",
      "2025-02-04 20:16:36.167 \n",
      "  \u001b[33m\u001b[1mWarning:\u001b[0m to view this Streamlit app on a browser, run it with the following\n",
      "  command:\n",
      "\n",
      "    streamlit run c:\\Users\\Arvind\\anaconda3\\envs\\groq\\lib\\site-packages\\ipykernel_launcher.py [ARGUMENTS]\n",
      "2025-02-04 20:16:36.168 Thread 'MainThread': missing ScriptRunContext! This warning can be ignored when running in bare mode.\n",
      "2025-02-04 20:16:36.169 Thread 'MainThread': missing ScriptRunContext! This warning can be ignored when running in bare mode.\n",
      "2025-02-04 20:16:36.171 Thread 'MainThread': missing ScriptRunContext! This warning can be ignored when running in bare mode.\n",
      "2025-02-04 20:16:36.172 Thread 'MainThread': missing ScriptRunContext! This warning can be ignored when running in bare mode.\n",
      "2025-02-04 20:16:36.174 Thread 'MainThread': missing ScriptRunContext! This warning can be ignored when running in bare mode.\n",
      "2025-02-04 20:16:36.176 Session state does not function when running a script without `streamlit run`\n",
      "2025-02-04 20:16:36.178 Thread 'MainThread': missing ScriptRunContext! This warning can be ignored when running in bare mode.\n",
      "2025-02-04 20:16:36.179 Thread 'MainThread': missing ScriptRunContext! This warning can be ignored when running in bare mode.\n",
      "2025-02-04 20:16:36.180 Thread 'MainThread': missing ScriptRunContext! This warning can be ignored when running in bare mode.\n",
      "2025-02-04 20:16:36.182 Thread 'MainThread': missing ScriptRunContext! This warning can be ignored when running in bare mode.\n",
      "2025-02-04 20:16:36.183 Thread 'MainThread': missing ScriptRunContext! This warning can be ignored when running in bare mode.\n",
      "2025-02-04 20:16:36.184 Thread 'MainThread': missing ScriptRunContext! This warning can be ignored when running in bare mode.\n",
      "2025-02-04 20:16:36.185 Thread 'MainThread': missing ScriptRunContext! This warning can be ignored when running in bare mode.\n"
     ]
    }
   ],
   "source": [
    "import streamlit as st\n",
    "\n",
    "st.title(\"AI-Powered Research Assistant\")\n",
    "query = st.text_input(\"Enter your research topic or keywords:\")\n",
    "pdf_file = st.file_uploader(\"Upload Research Paper (PDF)\", type=[\"pdf\"])\n",
    "\n",
    "if pdf_file:\n",
    "    pdf_path = f\"data/{pdf_file.name}\"\n",
    "    with open(pdf_path, \"wb\") as f:\n",
    "        f.write(pdf_file.getbuffer())\n",
    "\n",
    "    extracted_text = extract_text_from_pdf(pdf_path)\n",
    "    store_embeddings(extracted_text)\n",
    "    st.success(\"PDF processed and stored in the database!\")\n",
    "\n",
    "if query:\n",
    "    response = query_rag(query)\n",
    "    st.subheader(\"Generated Research Insights:\")\n",
    "    st.write(response)"
   ]
  },
  {
   "cell_type": "code",
   "execution_count": null,
   "metadata": {},
   "outputs": [],
   "source": []
  },
  {
   "cell_type": "code",
   "execution_count": null,
   "metadata": {},
   "outputs": [],
   "source": []
  },
  {
   "cell_type": "code",
   "execution_count": null,
   "metadata": {},
   "outputs": [],
   "source": []
  },
  {
   "cell_type": "code",
   "execution_count": null,
   "metadata": {},
   "outputs": [],
   "source": []
  },
  {
   "cell_type": "code",
   "execution_count": null,
   "metadata": {},
   "outputs": [],
   "source": []
  },
  {
   "cell_type": "code",
   "execution_count": null,
   "metadata": {},
   "outputs": [],
   "source": []
  },
  {
   "cell_type": "code",
   "execution_count": null,
   "metadata": {},
   "outputs": [],
   "source": []
  }
 ],
 "metadata": {
  "kernelspec": {
   "display_name": "groq",
   "language": "python",
   "name": "python3"
  },
  "language_info": {
   "codemirror_mode": {
    "name": "ipython",
    "version": 3
   },
   "file_extension": ".py",
   "mimetype": "text/x-python",
   "name": "python",
   "nbconvert_exporter": "python",
   "pygments_lexer": "ipython3",
   "version": "3.10.16"
  }
 },
 "nbformat": 4,
 "nbformat_minor": 2
}
